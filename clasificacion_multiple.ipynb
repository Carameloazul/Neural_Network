{
  "cells": [
    {
      "cell_type": "code",
      "execution_count": 30,
      "metadata": {
        "id": "SHZzUjLSHvsq"
      },
      "outputs": [],
      "source": [
        "import numpy as np\n",
        "from keras import layers, models, regularizers\n",
        "from keras.datasets import reuters\n",
        "from keras.datasets.reuters import get_label_names"
      ]
    },
    {
      "cell_type": "code",
      "execution_count": 2,
      "metadata": {
        "colab": {
          "base_uri": "https://localhost:8080/"
        },
        "id": "MrkOlbjlHvsu",
        "outputId": "5c1ede81-527d-4120-ccc7-efac6c9dd8a7"
      },
      "outputs": [
        {
          "output_type": "stream",
          "name": "stdout",
          "text": [
            "Downloading data from https://storage.googleapis.com/tensorflow/tf-keras-datasets/reuters.npz\n",
            "2110848/2110848 [==============================] - 0s 0us/step\n"
          ]
        }
      ],
      "source": [
        "(train_data, train_labels), (test_data, test_labels) = reuters.load_data(num_words = 10000)"
      ]
    },
    {
      "cell_type": "code",
      "execution_count": 3,
      "metadata": {
        "colab": {
          "base_uri": "https://localhost:8080/"
        },
        "id": "z11C4IMhHvsv",
        "outputId": "3a52aab3-cba0-4a9a-d522-b5273dcd075f"
      },
      "outputs": [
        {
          "output_type": "execute_result",
          "data": {
            "text/plain": [
              "[1,\n",
              " 2,\n",
              " 2,\n",
              " 8,\n",
              " 43,\n",
              " 10,\n",
              " 447,\n",
              " 5,\n",
              " 25,\n",
              " 207,\n",
              " 270,\n",
              " 5,\n",
              " 3095,\n",
              " 111,\n",
              " 16,\n",
              " 369,\n",
              " 186,\n",
              " 90,\n",
              " 67,\n",
              " 7,\n",
              " 89,\n",
              " 5,\n",
              " 19,\n",
              " 102,\n",
              " 6,\n",
              " 19,\n",
              " 124,\n",
              " 15,\n",
              " 90,\n",
              " 67,\n",
              " 84,\n",
              " 22,\n",
              " 482,\n",
              " 26,\n",
              " 7,\n",
              " 48,\n",
              " 4,\n",
              " 49,\n",
              " 8,\n",
              " 864,\n",
              " 39,\n",
              " 209,\n",
              " 154,\n",
              " 6,\n",
              " 151,\n",
              " 6,\n",
              " 83,\n",
              " 11,\n",
              " 15,\n",
              " 22,\n",
              " 155,\n",
              " 11,\n",
              " 15,\n",
              " 7,\n",
              " 48,\n",
              " 9,\n",
              " 4579,\n",
              " 1005,\n",
              " 504,\n",
              " 6,\n",
              " 258,\n",
              " 6,\n",
              " 272,\n",
              " 11,\n",
              " 15,\n",
              " 22,\n",
              " 134,\n",
              " 44,\n",
              " 11,\n",
              " 15,\n",
              " 16,\n",
              " 8,\n",
              " 197,\n",
              " 1245,\n",
              " 90,\n",
              " 67,\n",
              " 52,\n",
              " 29,\n",
              " 209,\n",
              " 30,\n",
              " 32,\n",
              " 132,\n",
              " 6,\n",
              " 109,\n",
              " 15,\n",
              " 17,\n",
              " 12]"
            ]
          },
          "metadata": {},
          "execution_count": 3
        }
      ],
      "source": [
        "train_data[0]"
      ]
    },
    {
      "cell_type": "code",
      "execution_count": 4,
      "metadata": {
        "colab": {
          "base_uri": "https://localhost:8080/"
        },
        "id": "F-2O4Uw9Hvsv",
        "outputId": "4d9a9e0d-bde7-47a4-b5c7-7df5063cb731"
      },
      "outputs": [
        {
          "output_type": "stream",
          "name": "stdout",
          "text": [
            "Downloading data from https://storage.googleapis.com/tensorflow/tf-keras-datasets/reuters_word_index.json\n",
            "550378/550378 [==============================] - 0s 0us/step\n",
            "None\n",
            "None\n",
            "None\n",
            "said\n",
            "as\n",
            "a\n",
            "result\n",
            "of\n",
            "its\n",
            "december\n",
            "acquisition\n",
            "of\n",
            "space\n",
            "co\n",
            "it\n",
            "expects\n",
            "earnings\n",
            "per\n",
            "share\n",
            "in\n",
            "1987\n",
            "of\n",
            "1\n",
            "15\n",
            "to\n",
            "1\n",
            "30\n",
            "dlrs\n",
            "per\n",
            "share\n",
            "up\n",
            "from\n",
            "70\n",
            "cts\n",
            "in\n",
            "1986\n",
            "the\n",
            "company\n",
            "said\n",
            "pretax\n",
            "net\n",
            "should\n",
            "rise\n",
            "to\n",
            "nine\n",
            "to\n",
            "10\n",
            "mln\n",
            "dlrs\n",
            "from\n",
            "six\n",
            "mln\n",
            "dlrs\n",
            "in\n",
            "1986\n",
            "and\n",
            "rental\n",
            "operation\n",
            "revenues\n",
            "to\n",
            "19\n",
            "to\n",
            "22\n",
            "mln\n",
            "dlrs\n",
            "from\n",
            "12\n",
            "5\n",
            "mln\n",
            "dlrs\n",
            "it\n",
            "said\n",
            "cash\n",
            "flow\n",
            "per\n",
            "share\n",
            "this\n",
            "year\n",
            "should\n",
            "be\n",
            "2\n",
            "50\n",
            "to\n",
            "three\n",
            "dlrs\n",
            "reuter\n",
            "3\n"
          ]
        }
      ],
      "source": [
        "word_index  = reuters.get_word_index()\n",
        "word_index = dict([(value,key) for (key, value) in word_index.items()])\n",
        "\n",
        "for _ in train_data[0]:\n",
        "    print(word_index.get(_ - 3))"
      ]
    },
    {
      "cell_type": "code",
      "execution_count": 5,
      "metadata": {
        "colab": {
          "base_uri": "https://localhost:8080/"
        },
        "id": "ba4RjwCvHvsw",
        "outputId": "555ddfa2-d9ae-49ed-a3e9-c9f6dd590597"
      },
      "outputs": [
        {
          "output_type": "execute_result",
          "data": {
            "text/plain": [
              "3"
            ]
          },
          "metadata": {},
          "execution_count": 5
        }
      ],
      "source": [
        "train_labels[0]"
      ]
    },
    {
      "cell_type": "code",
      "execution_count": 6,
      "metadata": {
        "colab": {
          "base_uri": "https://localhost:8080/"
        },
        "id": "RaVqTneSHvsw",
        "outputId": "1bae3d6f-8ed4-44d0-f85d-d93755e62007"
      },
      "outputs": [
        {
          "output_type": "execute_result",
          "data": {
            "text/plain": [
              "(8982,)"
            ]
          },
          "metadata": {},
          "execution_count": 6
        }
      ],
      "source": [
        "train_data.shape"
      ]
    },
    {
      "cell_type": "code",
      "execution_count": 9,
      "metadata": {
        "id": "67gpdppQHvsw"
      },
      "outputs": [],
      "source": [
        "def vectorizer(sequences, dim = 10000):\n",
        "    results = np.zeros((len(sequences), dim))\n",
        "\n",
        "    for _, sequence in enumerate(sequences):\n",
        "        results[_, sequence] = 1\n",
        "    return results"
      ]
    },
    {
      "cell_type": "code",
      "execution_count": 26,
      "metadata": {
        "id": "f2tg-ujyHvsx"
      },
      "outputs": [],
      "source": [
        "x_train = vectorizer(train_data)\n",
        "x_test = vectorizer(test_data)"
      ]
    },
    {
      "cell_type": "code",
      "execution_count": 11,
      "metadata": {
        "colab": {
          "base_uri": "https://localhost:8080/"
        },
        "id": "CAQtX0mRHvsx",
        "outputId": "50c1fbe3-0dd6-4ca1-fa29-50249edc765c"
      },
      "outputs": [
        {
          "output_type": "execute_result",
          "data": {
            "text/plain": [
              "4"
            ]
          },
          "metadata": {},
          "execution_count": 11
        }
      ],
      "source": [
        "train_labels[1]"
      ]
    },
    {
      "cell_type": "code",
      "source": [
        "label_name = get_label_names()\n",
        "label_name[train_labels[1]]"
      ],
      "metadata": {
        "colab": {
          "base_uri": "https://localhost:8080/",
          "height": 35
        },
        "id": "nzYwuK_ZJ6xj",
        "outputId": "9540d64f-fea7-4276-9fcb-8e081f01ca71"
      },
      "execution_count": 18,
      "outputs": [
        {
          "output_type": "execute_result",
          "data": {
            "text/plain": [
              "'acq'"
            ],
            "application/vnd.google.colaboratory.intrinsic+json": {
              "type": "string"
            }
          },
          "metadata": {},
          "execution_count": 18
        }
      ]
    },
    {
      "cell_type": "code",
      "execution_count": 19,
      "metadata": {
        "id": "PaLyAeAWHvsy"
      },
      "outputs": [],
      "source": [
        "from keras.utils import to_categorical"
      ]
    },
    {
      "cell_type": "code",
      "execution_count": 20,
      "metadata": {
        "id": "mTglMLvnHvsz"
      },
      "outputs": [],
      "source": [
        "y_train = to_categorical(train_labels)\n",
        "y_test = to_categorical(test_labels)"
      ]
    },
    {
      "cell_type": "code",
      "execution_count": 21,
      "metadata": {
        "colab": {
          "base_uri": "https://localhost:8080/"
        },
        "id": "RwAIHPR0Hvsz",
        "outputId": "59758e99-8939-40b5-9d7d-1dd597f78b58"
      },
      "outputs": [
        {
          "output_type": "execute_result",
          "data": {
            "text/plain": [
              "array([0., 0., 0., 1., 0., 0., 0., 0., 0., 0., 0., 0., 0., 0., 0., 0., 0.,\n",
              "       0., 0., 0., 0., 0., 0., 0., 0., 0., 0., 0., 0., 0., 0., 0., 0., 0.,\n",
              "       0., 0., 0., 0., 0., 0., 0., 0., 0., 0., 0., 0.], dtype=float32)"
            ]
          },
          "metadata": {},
          "execution_count": 21
        }
      ],
      "source": [
        "y_train[0]"
      ]
    },
    {
      "cell_type": "code",
      "execution_count": 22,
      "metadata": {
        "id": "vaUGTufHHvs0"
      },
      "outputs": [],
      "source": [
        "model = models.Sequential()"
      ]
    },
    {
      "cell_type": "code",
      "execution_count": 106,
      "metadata": {
        "id": "_UxDIVApHvs0"
      },
      "outputs": [],
      "source": [
        "model.add(layers.Dense(512, activation = 'relu', input_shape = (10000,)))\n",
        "model.add(layers.Dense(128, activation = 'relu'))\n",
        "model.add(layers.Dropout(0.3))\n",
        "model.add(layers.Dense(64, activation = 'relu'))\n",
        "model.add(layers.Dropout(0.3))\n",
        "model.add(layers.Dense(64, activation = 'relu'))\n",
        "model.add(layers.Dropout(0.1))\n",
        "model.add(layers.Dense(46, activation = 'softmax'))"
      ]
    },
    {
      "cell_type": "code",
      "execution_count": 103,
      "metadata": {
        "id": "IbD07OE4Hvs1"
      },
      "outputs": [],
      "source": [
        "model.compile(optimizer = 'rmsprop',\n",
        "              loss = 'categorical_crossentropy',\n",
        "              metrics = ['accuracy'])"
      ]
    },
    {
      "cell_type": "code",
      "execution_count": 27,
      "metadata": {
        "id": "4oaD-CwMHvs1"
      },
      "outputs": [],
      "source": [
        "x_val = x_train[:1000]\n",
        "partial_x_train = x_train[1000:]"
      ]
    },
    {
      "cell_type": "code",
      "execution_count": 28,
      "metadata": {
        "id": "oTh8SbhxHvs1"
      },
      "outputs": [],
      "source": [
        "y_val = y_train[:1000]\n",
        "partial_y_train = y_train[1000:]"
      ]
    },
    {
      "cell_type": "code",
      "execution_count": null,
      "metadata": {
        "colab": {
          "base_uri": "https://localhost:8080/"
        },
        "id": "AjqJkvPAHvs1",
        "outputId": "efec8213-beb4-42ef-9a71-16aeb41e6843"
      },
      "outputs": [
        {
          "output_type": "stream",
          "name": "stdout",
          "text": [
            "Epoch 1/300\n",
            "16/16 [==============================] - 2s 102ms/step - loss: 10.1045 - accuracy: 0.3514 - val_loss: 9.9585 - val_accuracy: 0.3540\n",
            "Epoch 2/300\n",
            "16/16 [==============================] - 2s 112ms/step - loss: 10.1039 - accuracy: 0.3514 - val_loss: 9.9547 - val_accuracy: 0.3540\n",
            "Epoch 3/300\n",
            "16/16 [==============================] - 1s 83ms/step - loss: 10.1034 - accuracy: 0.3514 - val_loss: 9.9549 - val_accuracy: 0.3540\n",
            "Epoch 4/300\n",
            "16/16 [==============================] - 1s 82ms/step - loss: 10.1037 - accuracy: 0.3514 - val_loss: 9.9549 - val_accuracy: 0.3540\n",
            "Epoch 5/300\n",
            "16/16 [==============================] - 1s 85ms/step - loss: 10.1045 - accuracy: 0.3514 - val_loss: 9.9564 - val_accuracy: 0.3540\n",
            "Epoch 6/300\n",
            "16/16 [==============================] - 1s 85ms/step - loss: 10.1038 - accuracy: 0.3514 - val_loss: 9.9554 - val_accuracy: 0.3540\n",
            "Epoch 7/300\n",
            "10/16 [=================>............] - ETA: 0s - loss: 10.0926 - accuracy: 0.3508"
          ]
        }
      ],
      "source": [
        "history = model.fit(\n",
        "        partial_x_train,\n",
        "        partial_y_train,\n",
        "        epochs = 300,\n",
        "        batch_size = 512,\n",
        "        validation_data = (x_val, y_val)\n",
        "    )"
      ]
    },
    {
      "cell_type": "code",
      "execution_count": 35,
      "metadata": {
        "id": "omnuY-4oHvs2"
      },
      "outputs": [],
      "source": [
        "import matplotlib.pyplot as plt"
      ]
    },
    {
      "cell_type": "code",
      "execution_count": 54,
      "metadata": {
        "colab": {
          "base_uri": "https://localhost:8080/",
          "height": 830
        },
        "id": "w3suzp0WHvs2",
        "outputId": "f4492f53-901c-4ee3-9a87-154b2e2dd44c"
      },
      "outputs": [
        {
          "output_type": "display_data",
          "data": {
            "text/plain": [
              "<Figure size 1000x1000 with 1 Axes>"
            ],
            "image/png": "[encoded data removed]"
          },
          "metadata": {}
        }
      ],
      "source": [
        "history_dict = history.history\n",
        "\n",
        "loss = history_dict['loss']\n",
        "loss_eval = history_dict['val_loss']\n",
        "\n",
        "fig = plt.figure(figsize=(10,10))\n",
        "epochs = range(1,len(loss) + 1 )\n",
        "\n",
        "plt.plot(epochs, loss_eval, 'o', label = 'Val_Loss')\n",
        "plt.plot(epochs, loss, '--', label = 'loss')\n",
        "plt.legend()\n",
        "plt.show()\n"
      ]
    },
    {
      "cell_type": "code",
      "execution_count": null,
      "metadata": {
        "id": "3IFo4aNbHvs2"
      },
      "outputs": [],
      "source": [
        "accuracy = history_dict['accuracy']\n",
        "val_accuracy = history_dict['val_accuracy']\n",
        "\n",
        "fig = plt.figure(figsize=(10,10))\n",
        "epochs = range(1,len(loss) + 1 )\n",
        "\n",
        "plt.plot(epochs, val_accuracy, 'o', label = 'val_accuracy')\n",
        "plt.plt(epochs, accuracy, '--', label = 'accuracy')\n",
        "plt.legend()\n",
        "plt.show()"
      ]
    },
    {
      "cell_type": "code",
      "execution_count": null,
      "metadata": {
        "id": "vgDCpel5Hvs3"
      },
      "outputs": [],
      "source": [
        "model.evaluate(x_test, y_test)"
      ]
    },
    {
      "cell_type": "code",
      "execution_count": null,
      "metadata": {
        "id": "wwsPCmxlHvs3"
      },
      "outputs": [],
      "source": [
        "predictions = model.predict(x_test)"
      ]
    },
    {
      "cell_type": "code",
      "execution_count": null,
      "metadata": {
        "id": "sh7WkvxHHvs3"
      },
      "outputs": [],
      "source": [
        "predictions[0]"
      ]
    },
    {
      "cell_type": "code",
      "execution_count": null,
      "metadata": {
        "id": "nYJGcpLcHvs4"
      },
      "outputs": [],
      "source": [
        "np.sum(predictions[0])"
      ]
    },
    {
      "cell_type": "code",
      "execution_count": null,
      "metadata": {
        "id": "HjTHyMWdHvs4"
      },
      "outputs": [],
      "source": [
        "np.argmax(predictions[0])"
      ]
    }
  ],
  "metadata": {
    "language_info": {
      "name": "python"
    },
    "colab": {
      "provenance": [],
      "gpuType": "T4"
    },
    "accelerator": "GPU",
    "kernelspec": {
      "name": "python3",
      "display_name": "Python 3"
    }
  },
  "nbformat": 4,
  "nbformat_minor": 0
}